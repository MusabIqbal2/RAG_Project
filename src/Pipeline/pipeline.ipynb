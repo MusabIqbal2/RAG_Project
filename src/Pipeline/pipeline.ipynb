{
 "cells": [
  {
   "cell_type": "code",
   "execution_count": 3,
   "metadata": {},
   "outputs": [],
   "source": [
    "from dotenv import load_dotenv\n",
    "import os\n",
    "\n",
    "load_dotenv(override=True) # Load environment variables from .env file, override any existing variables\n",
    "\n",
    "# Making a Langchain Embeddings Object using Nomic\n",
    "\n",
    "from langchain_nomic import NomicEmbeddings\n",
    "\n",
    "embeddings = NomicEmbeddings(model=\"nomic-embed-text-v1.5\")\n",
    "\n",
    "# Making a Pinecone Vector Store Object\n",
    "\n",
    "from langchain_pinecone import PineconeVectorStore\n",
    "from pinecone import Pinecone\n",
    "\n",
    "pc = Pinecone(api_key=os.getenv(\"PINECONE_API_KEY\"))\n",
    "index_name = \"nlp-module\"  # change if desired\n",
    "index = pc. Index(index_name)\n",
    "vector_store = PineconeVectorStore(index=index, embedding=embeddings)\n",
    "\n",
    "# Making a Retriever Object (Allows you to find similar documents in your Pinecone index, given a query)\n",
    "\n",
    "retriever = vector_store.as_retriever(\n",
    "    search_type=\"similarity_score_threshold\",\n",
    "    search_kwargs={\"k\": 10, \"score_threshold\": 0.5},\n",
    ")\n",
    "\n",
    "# Making a ChatGroq Object (This is the LLM model that will generate responses)\n",
    "\n",
    "from langchain_groq import ChatGroq\n",
    "llm = ChatGroq(model=\"llama3-8b-8192\", stop_sequences= None, temperature=0)\n",
    "\n",
    "# Function to format the retrieved documents, gotten from the retriever\n",
    "\n",
    "def format_docs(docs):\n",
    "    print(\"docs:\", docs)\n",
    "    print()\n",
    "    return \"\\n\\n\".join(doc.page_content for doc in docs)\n",
    "\n",
    "\n",
    "# Making a custon prompt which had two variables, \"context\" and question\n",
    "\n",
    "# Note:This prompt_template expects a dictionary/JSON with the keys \"context\" and \"question\" as input\n",
    "\n",
    "from langchain.prompts import PromptTemplate, ChatPromptTemplate, HumanMessagePromptTemplate\n",
    "\n",
    "prompt_template = ChatPromptTemplate.from_messages([\n",
    "    HumanMessagePromptTemplate(\n",
    "        prompt=PromptTemplate(\n",
    "            input_variables=[\"context\", \"question\"],\n",
    "            template=( # The constructed prompt from the variables\n",
    "                \"You are an assistant for question-answering tasks. Use the following \"\n",
    "                \"pieces of retrieved context to answer the question. If you don't know \"\n",
    "                \"the answer, just say that you don't know. Use three sentences maximum \"\n",
    "                \"and keep the answer concise.\\n\\n\"\n",
    "                \n",
    "                \"Question: {question}\\n\"\n",
    "                \"Context: {context}\\n\"\n",
    "                \"Answer:\"\n",
    "            )\n",
    "            \n",
    "        )\n",
    "    )\n",
    "])\n",
    "\n",
    "# A simple function that logs the input and returns it\n",
    "\n",
    "def logger(input):\n",
    "    print(input)\n",
    "    return input\n",
    "\n",
    "\n",
    "# A chain with the modified prompt\n",
    "\n",
    "from langchain_core.output_parsers import StrOutputParser\n",
    "from langchain_core.runnables import RunnablePassthrough\n",
    "\n",
    "# The chain simply looks likes this:\n",
    "rag_chain = (\n",
    "    {\n",
    "        \"context\": retriever | format_docs,\n",
    "        \"question\": RunnablePassthrough()\n",
    "    }\n",
    "    | prompt_template\n",
    "    | llm\n",
    "    | StrOutputParser()\n",
    ")\n",
    "\n",
    "# respnse = rag_chain.invoke(\"Tell me about the paper: Attention is all you Need\")"
   ]
  },
  {
   "cell_type": "code",
   "execution_count": 9,
   "metadata": {},
   "outputs": [
    {
     "name": "stderr",
     "output_type": "stream",
     "text": [
      "No relevant docs were retrieved using the relevance score threshold 0.5\n"
     ]
    },
    {
     "name": "stdout",
     "output_type": "stream",
     "text": [
      "docs: []\n",
      "\n"
     ]
    },
    {
     "data": {
      "text/markdown": [
       "Based on the provided context, I don't have any information about the Arabic course being taught. Therefore, I cannot provide an answer to the question.\n",
       "\n",
       "If you provide the context, I'll be happy to help you with the question."
      ],
      "text/plain": [
       "<IPython.core.display.Markdown object>"
      ]
     },
     "metadata": {},
     "output_type": "display_data"
    }
   ],
   "source": [
    "from IPython.display import Markdown, display\n",
    "\n",
    "respnse = rag_chain.invoke(\"when is the Arabic course taught? tell me all the people that teach it\")\n",
    "\n",
    "display(Markdown(respnse))"
   ]
  },
  {
   "cell_type": "code",
   "execution_count": null,
   "metadata": {},
   "outputs": [],
   "source": [
    "from dotenv import load_dotenv\n",
    "import os\n",
    "\n",
    "load_dotenv(override=True) # Load environment variables from .env file, override any existing variables\n",
    "\n",
    "# Making a Langchain Embeddings Object using Nomic\n",
    "\n",
    "from langchain_nomic import NomicEmbeddings\n",
    "\n",
    "embeddings = NomicEmbeddings(model=\"nomic-embed-text-v1.5\")\n",
    "\n",
    "# Making a Pinecone Vector Store Object\n",
    "\n",
    "from langchain_pinecone import PineconeVectorStore\n",
    "from pinecone import Pinecone\n",
    "\n",
    "pc = Pinecone(api_key=os.getenv(\"PINECONE_API_KEY\"))\n",
    "index_name = \"musab-bilal-rag\"  # change if desired\n",
    "index = pc.Index(index_name)\n",
    "vector_store = PineconeVectorStore(index=index, embedding=embeddings, namespace=\"prog-ann\")\n",
    "\n",
    "# Making a Retriever Object (Allows you to find similar documents in your Pinecone index, given a query)\n",
    "\n",
    "retriever = vector_store.as_retriever(\n",
    "    search_type=\"similarity_score_threshold\",\n",
    "    search_kwargs={\"k\": 5, \"score_threshold\": 0.5},\n",
    ")\n",
    "\n",
    "# Making a ChatGroq Object (This is the LLM model that will generate responses)\n",
    "\n",
    "from langchain_groq import ChatGroq\n",
    "llm = ChatGroq(model=\"llama3-8b-8192\", stop_sequences= None, temperature=0)\n",
    "\n",
    "# Function to format the retrieved documents, gotten from the retriever\n",
    "\n",
    "def format_docs(docs):\n",
    "    print(\"docs:\", docs)\n",
    "    print()\n",
    "    return \"\\n\\n\".join(doc.page_content for doc in docs)\n",
    "\n",
    "\n",
    "# Making a custon prompt which had two variables, \"context\" and question\n",
    "\n",
    "# Note:This prompt_template expects a dictionary/JSON with the keys \"context\" and \"question\" as input\n",
    "\n",
    "from langchain.prompts import PromptTemplate, ChatPromptTemplate, HumanMessagePromptTemplate\n",
    "\n",
    "prompt_template = ChatPromptTemplate.from_messages([\n",
    "    HumanMessagePromptTemplate(\n",
    "        prompt=PromptTemplate(\n",
    "            input_variables=[\"context\", \"question\"],\n",
    "            template=( # The constructed prompt from the variables\n",
    "                \"You are an assistant for question-answering tasks. Use the following \"\n",
    "                \"pieces of retrieved context to answer the question. If you don't know \"\n",
    "                \"the answer, just say that you don't know.\\n\\n\"\n",
    "                \"Keep the answer concise but answer completely.\\n\\n\"\n",
    "                \"Give the exact line of context if you are asked for some sort of justification for your response.\\n\\n\"\n",
    "                \n",
    "                \"Question: {question}\\n\"\n",
    "                \"Context: {context}\\n\"\n",
    "                \"Answer:\"\n",
    "            )\n",
    "            \n",
    "        )\n",
    "    )\n",
    "])\n",
    "\n",
    "# A simple function that logs the input and returns it\n",
    "\n",
    "def logger(input):\n",
    "    # print(input)\n",
    "    return input\n",
    "\n",
    "\n",
    "# A chain with the modified prompt\n",
    "\n",
    "from langchain_core.output_parsers import StrOutputParser\n",
    "from langchain_core.runnables import RunnablePassthrough\n",
    "\n",
    "# The chain simply looks likes this:\n",
    "rag_chain = (\n",
    "    {\n",
    "        \"context\": retriever | format_docs | logger,\n",
    "        \"question\": RunnablePassthrough()\n",
    "    }\n",
    "    | prompt_template\n",
    "    | llm\n",
    "    | StrOutputParser()\n",
    ")\n",
    "\n",
    "# respnse = rag_chain.invoke(\"Tell me about the paper: Attention is all you Need\")"
   ]
  },
  {
   "cell_type": "code",
   "execution_count": 14,
   "metadata": {},
   "outputs": [
    {
     "name": "stdout",
     "output_type": "stream",
     "text": [
      "docs: [Document(id='txt139', metadata={}, page_content='Moreover, the students are encouraged to pick a topic for their thesis/ project with a positive societal impact and include ethical perspectives in their research work. Use of technology and innovative pedagogy\\n The MS Finance program incorporates software in student learning including Advanced Excel, VBA, Stata, R, Python etc. Apart from this, workshops, and multiple training sessions on new software are organized for\\n graduate students to support in their research endeavors. ---\\n PROGRAM\\n ANNOUNCEMENT 2024-25 42 Semester-wise sequence of courses edit Course Cr Pre- Course\\n Semester -1 (Fall) code hours requisite type\\n Master of Science (MS)\\n Islamic Banking and Finance\\n Islamic Economics ECO510 3 - Cor e\\n The MS Islamic Banking and Finance (MS IBF) is a 36 credit hours program which can be completed in a\\n minimum duration of 1.5 years.'), Document(id='txt18', metadata={}, page_content='The program is designed to provide an MS IBF is a 42 credit hours program to be completed in a minimum\\nexclusive opportunity for students to receive a specialization in duration of 1.5 years and a maximum duration of 4 years as approved by\\nAccounting and Finance. The graduates of this program obtain the HEC. It is offered to fresh graduates from business and other\\nmultiple exemptions from the Institute of Chartered Accountants of disciplines, experienced practitioners and Shariah scholars. The\\nPakistan (ICAP) and the Association of Chartered Certiﬁed Accoun- program is designed to meet the growing needs of the Islamic Finance\\ntants (ACCA). Furthermore, the Chartered Institute of Management industry by providing theoretical and applied knowledge of Islamic\\nAccountants (CIMA), Institute of Cost and Management Accountants Finance, Islamic Jurisprudence, Banking, and Economics.'), Document(id='txt131', metadata={}, page_content='of courses Credit hours\\n\\n Time for completion is 2.5 years* - -\\n\\n Core courses 13 39\\n\\n Capstone (after all core courses) 01 03\\n\\n Elective courses 8 12\\n\\n Executive MBA Project 1 6\\n\\n Total - 60\\n\\n *Based on full course load - -\\n\\n For the semester-wise sequence of courses, please visit the IBA portal. ---\\n PROGRAM\\n ANNOUNCEMENT 2024-25 40\\n Master of Science (MS) Finance\\n The MS Finance is a 36 credit hours morning program that can be completed in a minimum duration of 1.5 semester-wise sequence of courses\\n years. The program is designed to provide a solid theoretical, as well as computational skillset for a Semester -1 Course Credit Pre- Course\\n successful career in the ﬁeld of ﬁnance.'), Document(id='txt17', metadata={}, page_content='This program is designed to prepare graduates for challenges\\nexperiential learning project (ELP), which takes the form of a consult- in the domestic and global ﬁnancial system by imparting comprehen-\\ning project for an organization. This serves as on-the-job training in the sive knowledge of ﬁnance and its multidisciplinary aspects. Students\\nreal business environment. gain in-depth knowledge with core courses in corporate ﬁnance and\\n investments. Bachelor of Science (BS) Accounting and Finance Master of Science (MS) Islamic Banking\\nProgram Coordinator: Ms. Sumayyah Khurshid Khan\\nThe BSAF program is a full-time 126 credit hours program comprising Program Director: Dr. Ashar Saleem\\n4 years of rigorous education.'), Document(id='txt305', metadata={}, page_content='Total credit hours are 30. 1 AI/Intelligent Systems (Track-AI) Required to take minimum one course\\n - no limit on maximum courses\\n 2 Information Systems and Software Required to take minimum one course\\nRequired courses Engineering (Track -ISSE) - no limit on maximum courses\\nThe Master of Science Computer Science (MSCS) program has two basic categories: MS with Thesis and MS 3 Network Centric Computing/ Required to take minimum one course\\nwithout Thesis. In both categories, the student should complete 30 credit hours. In MS with Thesis, the Systems (Track-NCC) - no limit on maximum courses\\nstudent needs to complete 18 credit hours to be eligible for taking MS Thesis I (research work) and MS Thesis Required to take minimum one course\\nII (thesis work) of 3 credit hours each over two semesters.')]\n",
      "\n"
     ]
    },
    {
     "data": {
      "text/markdown": [
       "The Master's program in Islamic Banking and Finance has 42 credit hours. I know this because it is stated in the context: \"The MS Islamic Banking and Finance (MS IBF) is a 42 credit hours program which can be completed in a minimum duration of 1.5 years.\" (Line 14)"
      ],
      "text/plain": [
       "<IPython.core.display.Markdown object>"
      ]
     },
     "metadata": {},
     "output_type": "display_data"
    }
   ],
   "source": [
    "from IPython.display import Markdown, display\n",
    "\n",
    "respnse = rag_chain.invoke(\"How many credit hours in Master's Islamic Banking and how do you know this?\")\n",
    "\n",
    "display(Markdown(respnse))"
   ]
  }
 ],
 "metadata": {
  "kernelspec": {
   "display_name": "venv",
   "language": "python",
   "name": "python3"
  },
  "language_info": {
   "codemirror_mode": {
    "name": "ipython",
    "version": 3
   },
   "file_extension": ".py",
   "mimetype": "text/x-python",
   "name": "python",
   "nbconvert_exporter": "python",
   "pygments_lexer": "ipython3",
   "version": "3.10.12"
  }
 },
 "nbformat": 4,
 "nbformat_minor": 2
}
